{
 "cells": [
  {
   "cell_type": "code",
   "execution_count": 2,
   "id": "4ad990dc",
   "metadata": {},
   "outputs": [],
   "source": [
    "#Assigment  15th May  TUHIN ROY (tuhinroy720@gmail.com)"
   ]
  },
  {
   "cell_type": "code",
   "execution_count": null,
   "id": "be7df49e",
   "metadata": {},
   "outputs": [],
   "source": [
    "Q1.ans-'h   r tnrrmglsnimeNGyosi dtfco'"
   ]
  },
  {
   "cell_type": "code",
   "execution_count": null,
   "id": "028fdc5e",
   "metadata": {},
   "outputs": [],
   "source": [
    "Q2.ans-'ntus antnt Ia  d a iao hPsFMii'"
   ]
  },
  {
   "cell_type": "code",
   "execution_count": null,
   "id": "961415b2",
   "metadata": {},
   "outputs": [],
   "source": [
    "Q3.ans-split=['this',\n",
    " 'is',\n",
    " 'My',\n",
    " 'First',\n",
    " 'Python',\n",
    " 'programming',\n",
    " 'class',\n",
    " 'and',\n",
    " 'i',\n",
    " 'am',\n",
    " 'learNING',\n",
    " 'python',\n",
    " 'string',\n",
    " 'and',\n",
    " 'its',\n",
    " 'function']\n",
    "\n",
    "uppercase= 'THIS IS MY FIRST PYTHON PROGRAMMING CLASS AND I AM LEARNING PYTHON STRING AND ITS FUNCTION'"
   ]
  },
  {
   "cell_type": "code",
   "execution_count": null,
   "id": "bc63fcbf",
   "metadata": {},
   "outputs": [],
   "source": [
    "Q4.ans- 'this is my first python programming class and i am learning python string and its function'"
   ]
  },
  {
   "cell_type": "code",
   "execution_count": null,
   "id": "c7e8a636",
   "metadata": {},
   "outputs": [],
   "source": [
    "Q5.ans- 'This is my first python programming class and i am learning python string and its function'"
   ]
  },
  {
   "cell_type": "code",
   "execution_count": null,
   "id": "6c1446c9",
   "metadata": {},
   "outputs": [],
   "source": [
    "Q6.ans- The isalnum method can be called as an extension of the isalpha python method,In addition to checking for the presence of alphabets in the string, the isalnum method checks whether the method contains numeric characters too.The method checks for the presence of alphanumeric characters(alphabets+numbers only),whereas,In Python, the isalpha method is a built-in function and it checks for the presence of alphabets-only in a string. If all the characters in the string are alphabets, it returns True. If the string contains other characters apart from alphabets for example a number or any special characters, it returns False. Alphabets in the English language include characters from A-Z and a-z."
   ]
  },
  {
   "cell_type": "code",
   "execution_count": null,
   "id": "896c2efb",
   "metadata": {},
   "outputs": [],
   "source": [
    "Q7.ans- Example:- s='Tuhin\\tRoy\\tIneuron'\n",
    "       Answer:-   'Tuhin   Roy     Ineuron'"
   ]
  },
  {
   "cell_type": "code",
   "execution_count": null,
   "id": "e9e6c160",
   "metadata": {},
   "outputs": [],
   "source": [
    "Q8.ans-strip:- strip() function in python strips both leading and  trailing whitespace. strip() Function is the combination of lstrip() and rstrip() Function\n",
    "    example-\n",
    "    s= \"   Tu  hi  \"\n",
    "    so the output will be- 'Tu  hi'"
   ]
  },
  {
   "cell_type": "code",
   "execution_count": null,
   "id": "9a457a7f",
   "metadata": {},
   "outputs": [],
   "source": [
    "Example of lsstrip():- lstrip() function in python strips the leading whitespace\n",
    "     example-\n",
    "    s= \"  Tu  hi  \"  \n",
    "so the output will be- 'Tu  hi   '"
   ]
  },
  {
   "cell_type": "code",
   "execution_count": null,
   "id": "f6254f30",
   "metadata": {},
   "outputs": [],
   "source": [
    "Example of rsstrip():- rstrip() function in python strips the trailing whitespace\n",
    "     example-\n",
    "    s= \"  Tu  hi  \"  \n",
    "    so the output will be-'   Tu  hi'"
   ]
  },
  {
   "cell_type": "code",
   "execution_count": null,
   "id": "8a138b86",
   "metadata": {},
   "outputs": [],
   "source": [
    "Q9.ans- example\n",
    "\"  \".join(\"tuhin\")\n",
    "output- 't  u  h  i  n'\n",
    "\n",
    "example- \"p\".join(\"tuhin\")\n",
    "output-  'tpuphpipn'\n",
    "\n",
    "example- s=\"I am learning python programming language\"\n",
    "         s.replace(\"t\",\"u\")\n",
    "    output- 'I am learning pyuhon programming language'"
   ]
  },
  {
   "cell_type": "code",
   "execution_count": null,
   "id": "32fcd77a",
   "metadata": {},
   "outputs": [],
   "source": [
    "Q10.ans- The center() method will center align the string, using a specified character(space is default) as the fill character.\n",
    "example-\n",
    "s=\"tuhin\"\n",
    "s.center(20 , 'a')\n",
    "output- 'aaaaaaatuhinaaaaaaaa'"
   ]
  },
  {
   "cell_type": "code",
   "execution_count": null,
   "id": "85de2d42",
   "metadata": {},
   "outputs": [],
   "source": [
    "Q11.ans- compiler- A compiler is a program that translates a source language or high-level programming language.(for example java,c++).A compiler that is suitable for the programming language is used in which the name of the file name containing the source statements is specified.\n",
    "  Interpreter- An Interpreter is a program which also converts a high-level programming language (like python,php) into machine code.Although similar to a compiler,the way that code is executed is different for both. "
   ]
  },
  {
   "cell_type": "code",
   "execution_count": null,
   "id": "e82b2a7b",
   "metadata": {},
   "outputs": [],
   "source": [
    "Q12.Python is an interpreted, object-oriented, high-level programming language,Python is simple, easy to learn language,In various books of python programming, it is mentioned that python language is interpreted. But that is half correct the python program is first compiled and then interpreted. "
   ]
  },
  {
   "cell_type": "code",
   "execution_count": null,
   "id": "46c42229",
   "metadata": {},
   "outputs": [],
   "source": [
    "Q13.The usecase of python are-\n",
    "1.AI and machine learning\n",
    "2.Data analytics\n",
    "3.Data visualisation\n",
    "4.Programming applications\n",
    "5.Web development\n",
    "6.Game development.\n",
    "7.Language development and many more."
   ]
  },
  {
   "cell_type": "code",
   "execution_count": null,
   "id": "a7b76734",
   "metadata": {},
   "outputs": [],
   "source": []
  },
  {
   "cell_type": "code",
   "execution_count": null,
   "id": "f8e82ca8",
   "metadata": {},
   "outputs": [],
   "source": []
  },
  {
   "cell_type": "code",
   "execution_count": null,
   "id": "8d5a5354",
   "metadata": {},
   "outputs": [],
   "source": []
  },
  {
   "cell_type": "code",
   "execution_count": null,
   "id": "46c6d13f",
   "metadata": {},
   "outputs": [],
   "source": []
  },
  {
   "cell_type": "code",
   "execution_count": null,
   "id": "b11e272b",
   "metadata": {},
   "outputs": [],
   "source": []
  },
  {
   "cell_type": "code",
   "execution_count": null,
   "id": "7f653221",
   "metadata": {},
   "outputs": [],
   "source": []
  },
  {
   "cell_type": "code",
   "execution_count": null,
   "id": "aa035fc0",
   "metadata": {},
   "outputs": [],
   "source": []
  },
  {
   "cell_type": "code",
   "execution_count": null,
   "id": "5a753607",
   "metadata": {},
   "outputs": [],
   "source": []
  }
 ],
 "metadata": {
  "kernelspec": {
   "display_name": "Python 3 (ipykernel)",
   "language": "python",
   "name": "python3"
  },
  "language_info": {
   "codemirror_mode": {
    "name": "ipython",
    "version": 3
   },
   "file_extension": ".py",
   "mimetype": "text/x-python",
   "name": "python",
   "nbconvert_exporter": "python",
   "pygments_lexer": "ipython3",
   "version": "3.9.7"
  }
 },
 "nbformat": 4,
 "nbformat_minor": 5
}
